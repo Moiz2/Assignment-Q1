{
 "cells": [
  {
   "cell_type": "code",
   "execution_count": 4,
   "metadata": {},
   "outputs": [
    {
     "name": "stdout",
     "output_type": "stream",
     "text": [
      "Enter your English Marks out of 100 \n",
      "88\n",
      "Enter your Urdu Marks out of 100 \n",
      "99\n",
      "Enter your Islamiat Marks out of 100 \n",
      "90\n",
      "Enter your Physics Marks out of 100 \n",
      "98\n",
      "Enter your Chemistry Marks out of 100 \n",
      "89\n",
      "Enter your Mathematics Marks out of 100 \n",
      "89\n",
      "\n",
      "Marksheet\n",
      "\n",
      "Marks Obtained in English= 88\n",
      "\n",
      "Marks Obtained in Urdu= 99\n",
      "\n",
      "Marks Obtained in Islamiat= 90\n",
      "\n",
      "Marks Obtained in Physics= 98\n",
      "\n",
      "Marks Obtained in Chemistry= 89\n",
      "\n",
      "Marks Obtained in Mathematics= 89\n",
      "\n",
      "Total Marks Obtained =  553\n",
      "\n",
      "Percentage = 92.16666666666666 % \n"
     ]
    }
   ],
   "source": [
    "import numpy as np\n",
    "import pandas as pd\n",
    "Subjects = [\"English\",\"Urdu\",\"Islamiat\",\"Physics\",\"Chemistry\",\"Mathematics\"]\n",
    "Marks = np.zeros((6),dtype= int)\n",
    "Sum = 0\n",
    "\n",
    "for e in range(0,6):\n",
    "    Marks[e] = int(input(\"Enter your \"+Subjects[e]+\" Marks out of 100 \\n\"))\n",
    "    Sum += Marks[e]\n",
    "    \n",
    "Per = float(Sum/600)*100\n",
    "\n",
    "print (\"\\nMarksheet\")\n",
    "for q in range(6):\n",
    "    \n",
    "    print (\"\\nMarks Obtained in \"+Subjects[q] + \"=\",+Marks[q])\n",
    "print (\"\\nTotal Marks Obtained = \",+Sum)\n",
    "print (\"\\nPercentage = \"+ str(Per) + \" % \")\n",
    "\n",
    "Marksheet_dict = {\n",
    "    'English'   : Marks[0],\n",
    "    'Urdu'      : Marks[1],\n",
    "    'Islamiat'  : Marks[2],\n",
    "    'Physics'   : Marks[3],\n",
    "    'Chemistry' : Marks[4],\n",
    "    'Math'      : Marks[5],\n",
    "    'Total Marks Obtained' : Sum,\n",
    "    'Percentage': Per\n",
    "                 }\n",
    "Marksheet_df=pd.DataFrame([Marksheet_dict])\n",
    "Marksheet_df.to_csv(\"marksheet.csv\")"
   ]
  },
  {
   "cell_type": "code",
   "execution_count": null,
   "metadata": {},
   "outputs": [],
   "source": []
  }
 ],
 "metadata": {
  "kernelspec": {
   "display_name": "Python 3",
   "language": "python",
   "name": "python3"
  },
  "language_info": {
   "codemirror_mode": {
    "name": "ipython",
    "version": 3
   },
   "file_extension": ".py",
   "mimetype": "text/x-python",
   "name": "python",
   "nbconvert_exporter": "python",
   "pygments_lexer": "ipython3",
   "version": "3.7.3"
  }
 },
 "nbformat": 4,
 "nbformat_minor": 2
}
